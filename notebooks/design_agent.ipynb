{
 "cells": [
  {
   "cell_type": "markdown",
   "id": "2dc663af",
   "metadata": {},
   "source": [
    "# Design Agent 통합 노트북\n",
    "\n",
    "이 노트북은 기존의 `design.ipynb`와 `designer.ipynb`를 합쳐 Design Agent 워크플로우를 구성합니다."
   ]
  },
  {
   "cell_type": "code",
   "execution_count": null,
   "id": "5d9a5509",
   "metadata": {},
   "outputs": [],
   "source": [
    "# API 키를 환경변수로 관리하기 위한 설정 파일\n",
    "from dotenv import load_dotenv\n",
    "\n",
    "# API 키 정보 로드\n",
    "load_dotenv()"
   ]
  },
  {
   "cell_type": "code",
   "execution_count": null,
   "id": "b1b551f6",
   "metadata": {},
   "outputs": [],
   "source": [
    "from langgraph.checkpoint.memory import MemorySaver\n",
    "\n",
    "# 메모리 저장소 생성\n",
    "memory = MemorySaver()"
   ]
  },
  {
   "cell_type": "code",
   "execution_count": null,
   "id": "9d256dfd",
   "metadata": {},
   "outputs": [],
   "source": [
    "from langchain_core.tools import tool\n",
    "from typing import List, Dict\n",
    "\n",
    "# 도구 생성\n",
    "@tool\n",
    "def color_gen(query: str) -> List[Dict[str, str]]:\n",
    "    \"\"\"generate color based on the query\"\"\"\n",
    "\n",
    "    if query == \"warm\":\n",
    "        return [{\"red\": \"#FF0000\"}, {\"orange\": \"#FFA500\"}, {\"yellow\": \"#FFFF00\"}]\n",
    "\n",
    "    return [{\"blue\": \"#0000FF\"}, {\"green\": \"#008000\"}, {\"purple\": \"#800080\"}]"
   ]
  },
  {
   "cell_type": "code",
   "execution_count": null,
   "id": "41ddb836",
   "metadata": {},
   "outputs": [],
   "source": [
    "from typing import Annotated\n",
    "from typing_extensions import TypedDict\n",
    "from langchain_openai import ChatOpenAI\n",
    "from langchain_teddynote.tools.tavily import TavilySearch\n",
    "from langgraph.graph import StateGraph, START, END\n",
    "from langgraph.graph.message import add_messages\n",
    "from langgraph.prebuilt import ToolNode, tools_condition\n",
    "\n",
    "\n",
    "########## 1. 상태 정의 ##########\n",
    "# 상태 정의\n",
    "class State(TypedDict):\n",
    "    # 메시지 목록 주석 추가\n",
    "    messages: Annotated[list, add_messages]\n",
    "\n",
    "\n",
    "########## 2. 도구 정의 및 바인딩 ##########\n",
    "# 도구 초기화\n",
    "tools = [color_gen]\n",
    "\n",
    "# LLM 초기화\n",
    "llm = ChatOpenAI(model=\"gpt-4o-mini\")\n",
    "\n",
    "# 도구와 LLM 결합\n",
    "llm_with_tools = llm.bind_tools(tools)\n",
    "\n",
    "\n",
    "########## 3. 노드 추가 ##########\n",
    "# 챗봇 함수 정의\n",
    "def chatbot(state: State):\n",
    "    # 메시지 호출 및 반환\n",
    "    return {\"messages\": [llm_with_tools.invoke(state[\"messages\"]) ]}\n",
    "\n",
    "# 상태 그래프 생성\n",
    "graph_builder = StateGraph(State)\n",
    "\n",
    "# 챗봇 노드 추가\n",
    "graph_builder.add_node(\"chatbot\", chatbot)\n",
    "\n",
    "# 도구 노드 생성 및 추가\n",
    "from langgraph.prebuilt import ToolNode\n",
    "\n",
    "tool_node = ToolNode(tools=tools)\n",
    "# 도구 노드 추가\n",
    "graph_builder.add_node(\"tools\", tool_node)\n",
    "\n",
    "# 조건부 엣지\n",
    "graph_builder.add_conditional_edges(\n",
    "    \"chatbot\",\n",
    "    tools_condition,\n",
    ")\n",
    "\n",
    "########## 4. 엣지 추가 ##########\n",
    "# tools > chatbot\n",
    "graph_builder.add_edge(\"tools\", \"chatbot\")\n",
    "# START > chatbot\n",
    "graph_builder.add_edge(START, \"chatbot\")\n",
    "# chatbot > END\n",
    "graph_builder.add_edge(\"chatbot\", END)"
   ]
  },
  {
   "cell_type": "code",
   "execution_count": null,
   "id": "202cebbe",
   "metadata": {},
   "outputs": [],
   "source": [
    "# 그래프 빌더 컴파일\n",
    "graph = graph_builder.compile(checkpointer=memory)"
   ]
  },
  {
   "cell_type": "code",
   "execution_count": null,
   "id": "a47a0d18",
   "metadata": {},
   "outputs": [],
   "source": [
    "from langchain_teddynote.graphs import visualize_graph\n",
    "\n",
    "# 그래프 시각화\n",
    "visualize_graph(graph)"
   ]
  },
  {
   "cell_type": "code",
   "execution_count": null,
   "id": "7c35aa9c",
   "metadata": {},
   "outputs": [],
   "source": [
    "from langchain_core.runnables import RunnableConfig\n",
    "\n",
    "config = RunnableConfig(\n",
    "    recursion_limit=10,  # 최대 10개의 노드까지 방문. 그 이상은 RecursionError 발생\n",
    "    configurable={\"thread_id\": \"1\"},  # 스레드 ID 설정\n",
    ")"
   ]
  },
  {
   "cell_type": "code",
   "execution_count": null,
   "id": "c042d1dc",
   "metadata": {},
   "outputs": [],
   "source": [
    "# 첫 질문\n",
    "question = (\n",
    "    \"안녕하세요 당신은 누구인가요?\"\n",
    ")\n",
    "\n",
    "for event in graph.stream({\"messages\": [(\"user\", question)]}, config=config):\n",
    "    for value in event.values():\n",
    "        value[\"messages\"][-1].pretty_print()"
   ]
  },
  {
   "cell_type": "code",
   "execution_count": null,
   "id": "0c493e39",
   "metadata": {},
   "outputs": [],
   "source": [
    "# 이어지는 질문\n",
    "question = \"따뜻한 컵을 디자인하기 위해 어떤 색상을 사용해야 할까요?\"\n",
    "\n",
    "for event in graph.stream({\"messages\": [(\"user\", question)]}, config=config):\n",
    "    for value in event.values():\n",
    "        value[\"messages\"][-1].pretty_print()"
   ]
  },
  {
   "cell_type": "code",
   "execution_count": null,
   "id": "e74717cd",
   "metadata": {},
   "outputs": [],
   "source": []
  },
  {
   "cell_type": "markdown",
   "id": "db53c252",
   "metadata": {},
   "source": [
    "---\n",
    "\n",
    "# Designer Agent 예제"
   ]
  },
  {
   "cell_type": "markdown",
   "id": "daa51cfa",
   "metadata": {},
   "source": [
    "디자이너 에이전트가 쿼리에 맞게 디자인 계획을 세우고 계획을 달성하는 과정에서 ColorGen이라는 도구를 사용합니다."
   ]
  },
  {
   "cell_type": "code",
   "execution_count": null,
   "id": "cd2e2735",
   "metadata": {},
   "outputs": [],
   "source": [
    "# API 키를 환경변수로 관리하기 위한 설정 파일\n",
    "from dotenv import load_dotenv\n",
    "\n",
    "# API 키 정보 로드\n",
    "load_dotenv()"
   ]
  },
  {
   "cell_type": "code",
   "execution_count": null,
   "id": "2c5c5d6b",
   "metadata": {},
   "outputs": [],
   "source": [
    "from langgraph.checkpoint.memory import MemorySaver\n",
    "\n",
    "# 메모리 저장소 생성\n",
    "memory = MemorySaver()"
   ]
  },
  {
   "cell_type": "code",
   "execution_count": null,
   "id": "e83cb111",
   "metadata": {},
   "outputs": [],
   "source": [
    "from langgraph.graph.message import add_messages\n",
    "from typing import Annotated\n",
    "from typing_extensions import TypedDict\n",
    "\n",
    "class State(TypedDict):\n",
    "    messages: Annotated[list, add_messages]"
   ]
  },
  {
   "cell_type": "code",
   "execution_count": null,
   "id": "6fcf4ea1",
   "metadata": {},
   "outputs": [],
   "source": [
    "from typing import Annotated\n",
    "from typing_extensions import TypedDict\n",
    "from langchain_openai import ChatOpenAI\n",
    "from langchain_teddynote.tools.tavily import TavilySearch\n",
    "from langgraph.graph import StateGraph, START, END\n",
    "from langgraph.graph.message import add_messages\n",
    "from langgraph.prebuilt import ToolNode, tools_condition"
   ]
  },
  {
   "cell_type": "code",
   "execution_count": null,
   "id": "0b4d1325",
   "metadata": {},
   "outputs": [],
   "source": [
    "from langchain_core.tools import tool\n",
    "from typing import List, Dict\n",
    "\n",
    "# 도구 생성\n",
    "@tool\n",
    "def color_gen(query: str) -> List[Dict[str, str]]:\n",
    "    \"\"\"generate color based on the query\"\"\"\n",
    "\n",
    "    if query == \"warm\":\n",
    "        return [{\"red\": \"#FF0000\"}, {\"orange\": \"#FFA500\"}, {\"yellow\": \"#FFFF00\"}]\n",
    "\n",
    "    return [{\"blue\": \"#0000FF\"}, {\"green\": \"#008000\"}, {\"purple\": \"#800080\"}]\n",
    "\n",
    "@tool\n",
    "def font_gen(query: str) -> List[Dict[str, str]]:\n",
    "    \"\"\"generate font based on the query\"\"\"\n",
    "\n",
    "    if query == \"warm\":\n",
    "        return [{\"Arial\": \"sans-serif\"}, {\"Times New Roman\": \"serif\"}, {\"Courier New\": \"monospace\"}]\n",
    "\n",
    "    return [{\"Helvetica\": \"sans-serif\"}, {\"Georgia\": \"serif\"}, {\"Comic Sans MS\": \"cursive\"}]"
   ]
  },
  {
   "cell_type": "code",
   "execution_count": null,
   "id": "dd5b667d",
   "metadata": {},
   "outputs": [],
   "source": [
    "from langgraph.prebuilt import ToolNode, tools_condition\n",
    "\n",
    "# 도구 리스트 생성\n",
    "tools = [color_gen, font_gen]\n",
    "\n",
    "# ToolNode 초기화\n",
    "tool_node = ToolNode(tools)"
   ]
  },
  {
   "cell_type": "code",
   "execution_count": null,
   "id": "5fedaeeb",
   "metadata": {},
   "outputs": [],
   "source": [
    "from langchain_core.messages import AIMessage\n",
    "\n",
    "# 단일 도구 호출을 포함하는 AI 메시지 객체 생성\n",
    "message_with_single_tool_call = AIMessage(\n",
    "    content=\"\",\n",
    "    tool_calls=[\n",
    "        {\n",
    "            \"name\": \"color_gen\",\n",
    "            \"args\": {\"query\": \"warm\"},\n",
    "            \"id\": \"tool_call_id\",\n",
    "            \"type\": \"tool_call\",\n",
    "        }\n",
    "    ],\n",
    ")\n",
    "\n",
    "# 도구 노드를 통한 메시지 처리\n",
    "tool_node.invoke({\"messages\": [message_with_single_tool_call]})"
   ]
  },
  {
   "cell_type": "code",
   "execution_count": null,
   "id": "30ffd5c8",
   "metadata": {},
   "outputs": [],
   "source": [
    "from langchain_openai import ChatOpenAI\n",
    "\n",
    "# LLM 모델 초기화 및 도구 바인딩\n",
    "model_with_tools = ChatOpenAI(model=\"gpt-4o-mini\", temperature=0).bind_tools(tools)"
   ]
  },
  {
   "cell_type": "code",
   "execution_count": null,
   "id": "098cc84d",
   "metadata": {},
   "outputs": [],
   "source": [
    "# 모델 도구 호출 테스트\n",
    "model_with_tools.invoke(\"따뜻한 그림에는 어떤 색이 어울릴까?\").tool_calls"
   ]
  },
  {
   "cell_type": "code",
   "execution_count": null,
   "id": "3515026a",
   "metadata": {},
   "outputs": [],
   "source": [
    "# 도구 노드를 통한 메시지 처리 및 응답 생성\n",
    "tool_node.invoke({\"messages\": [model_with_tools.invoke(\"따뜻한 그림에는 어떤 색이 어울릴까?\") ]})"
   ]
  },
  {
   "cell_type": "code",
   "execution_count": null,
   "id": "867cec39",
   "metadata": {},
   "outputs": [],
   "source": [
    "from langchain_core.output_parsers import StrOutputParser\n",
    "from langchain_core.prompts import ChatPromptTemplate, MessagesPlaceholder\n",
    "from langchain_core.messages import HumanMessage, AIMessage, BaseMessage\n",
    "\n",
    "# 디자이너 콜 함수 정의\n",
    "def call_designer(messages: List[BaseMessage]) -> dict:\n",
    "    prompt = ChatPromptTemplate.from_messages([\n",
    "        (\n",
    "            \"system\",\n",
    "            \"You are a professional designer whose expertise lies in creating a wide range of promotional materials...\"\n",
    "        ),\n",
    "        MessagesPlaceholder(variable_name=\"messages\"),\n",
    "    ])\n",
    "    chain = prompt | model_with_tools\n",
    "    return chain.invoke({\"messages\": messages})\n",
    "\n",
    "# 콜 예제\n",
    "call_designer([(\"user\", \"안녕하세요? 따뜻한 톤의 그림을 위해서는 어떠한 색이 어울릴까요?\")])"
   ]
  },
  {
   "cell_type": "code",
   "execution_count": null,
   "id": "ea903dfa",
   "metadata": {},
   "outputs": [],
   "source": [
    "from langgraph.graph import StateGraph, START, END\n",
    "\n",
    "# 디자이너 노드 정의\n",
    "def designer_node(state: State) -> State:\n",
    "    ai_response = call_designer(state[\"messages\"])\n",
    "    return {\"messages\": [AIMessage(ai_response)]}\n",
    "\n",
    "# 워크플로우 그래프 초기화\n",
    "workflow = StateGraph(State)\n",
    "workflow.add_node(\"designer\", designer_node)\n",
    "workflow.add_node(\"tools\", tool_node)\n",
    "workflow.add_edge(START, \"designer\")\n",
    "workflow.add_conditional_edges(\"designer\", tools_condition)\n",
    "workflow.add_edge(\"tools\", \"designer\")\n",
    "workflow.add_edge(\"designer\", END)\n",
    "app = workflow.compile()"
   ]
  },
  {
   "cell_type": "code",
   "execution_count": null,
   "id": "843769e9",
   "metadata": {},
   "outputs": [],
   "source": [
    "from langchain_core.runnables import RunnableConfig\n",
    "from langchain_teddynote.messages import stream_graph, random_uuid\n",
    "\n",
    "config = RunnableConfig(recursion_limit=10, configurable={\"thread_id\": random_uuid()})\n",
    "inputs = {\"messages\": [HumanMessage(content=\"안녕하세요? 따뜻한 톤의 그림을 위해서는 어떠한 색이 어울릴까요?\") ]}\n",
    "stream_graph(app, inputs, config)"
   ]
  }
 ],
 "metadata": {
  "language_info": {
   "name": "python"
  }
 },
 "nbformat": 4,
 "nbformat_minor": 5
}
