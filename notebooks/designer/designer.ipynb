{
 "cells": [
  {
   "cell_type": "code",
   "execution_count": null,
   "id": "cec1d1c3",
   "metadata": {},
   "outputs": [
    {
     "data": {
      "text/plain": [
       "True"
      ]
     },
     "execution_count": 1,
     "metadata": {},
     "output_type": "execute_result"
    }
   ],
   "source": [
    "from typing import Annotated, List, Dict\n",
    "from typing_extensions import TypedDict\n",
    "from langgraph.graph.message import add_messages\n",
    "from langchain_core.messages import AIMessage\n",
    "from langchain_core.prompts import ChatPromptTemplate, MessagesPlaceholder\n",
    "from langchain_openai import ChatOpenAI\n",
    "from langchain_teddynote.tools.tavily import TavilySearch\n",
    "from langgraph.graph import StateGraph, START, END\n",
    "from langgraph.prebuilt import ToolNode, tools_condition\n",
    "from langgraph.checkpoint.memory import MemorySaver\n",
    "from dotenv import load_dotenv\n",
    "from langchain_core.runnables import RunnableConfig\n",
    "import yaml\n",
    "from pathlib import Path\n",
    "\n",
    "\n",
    "load_dotenv()"
   ]
  },
  {
   "cell_type": "code",
   "execution_count": 2,
   "id": "816baaa7",
   "metadata": {},
   "outputs": [],
   "source": [
    "class State(TypedDict):\n",
    "    messages: Annotated[list, add_messages]"
   ]
  },
  {
   "cell_type": "code",
   "execution_count": 3,
   "id": "e14e35c2",
   "metadata": {},
   "outputs": [],
   "source": [
    "tavily_search = TavilySearch(max_results=3)\n",
    "designer_tools = [tavily_search]"
   ]
  },
  {
   "cell_type": "code",
   "execution_count": null,
   "id": "2a662f13",
   "metadata": {},
   "outputs": [],
   "source": [
    "def load_system_template(yaml_path: str) -> str:\n",
    "    config_path = Path(yaml_path)\n",
    "    prompt_data = yaml.safe_load(config_path.read_text(encoding='utf-8'))\n",
    "    return prompt_data['template']"
   ]
  },
  {
   "cell_type": "code",
   "execution_count": null,
   "id": "895a387f",
   "metadata": {},
   "outputs": [],
   "source": [
    "def designer(state: State) -> State:\n",
    "\n",
    "    system_template = load_system_template()\n",
    "\n",
    "    prompt = ChatPromptTemplate.from_messages(\n",
    "        [\n",
    "            ('system', system_template),\n",
    "            MessagesPlaceholder(variable_name='messages'),\n",
    "        ]\n",
    "    )\n",
    "    llm = ChatOpenAI(model='gpt-4o-mini')\n",
    "    llm_with_tools = llm.bind_tools(designer_tools)\n",
    "    chain = prompt | llm_with_tools\n",
    "    return {'messages': [chain.invoke({'messages': state['messages']})]}"
   ]
  },
  {
   "cell_type": "code",
   "execution_count": 11,
   "id": "04d8d480",
   "metadata": {},
   "outputs": [],
   "source": [
    "graph_builder = StateGraph(State)\n",
    "designer_tool_node = ToolNode(tools=designer_tools)\n",
    "graph_builder.add_node(\"designer\", designer)\n",
    "graph_builder.add_node(\"designer_tool\", designer_tool_node)\n",
    "\n",
    "# Add edges\n",
    "graph_builder.add_edge(START, \"designer\")\n",
    "graph_builder.add_conditional_edges(\n",
    "    \"designer\",\n",
    "    tools_condition,\n",
    "    {\"tools\": \"designer_tool\", \"__end__\": END},\n",
    ")\n",
    "\n",
    "graph_builder.add_edge(\"designer\", END)\n",
    "\n",
    "memory = MemorySaver()\n",
    "graph = graph_builder.compile(checkpointer=memory)"
   ]
  },
  {
   "cell_type": "code",
   "execution_count": 12,
   "id": "a1031e60",
   "metadata": {},
   "outputs": [
    {
     "name": "stdout",
     "output_type": "stream",
     "text": [
      "==================================\u001b[1m Ai Message \u001b[0m==================================\n",
      "\n",
      "아래는 \"옥수수 수염차\" 홍보물을 위한 디자인 기획안입니다.\n",
      "\n",
      "# 1. 브리프 요약\n",
      "- **핵심 가치**: 옥수수 수염차의 자연성, 건강한 선택의 용이성, 자연에서 온 해독 효과  \n",
      "- **홍보 목적**: 소비자에게 옥수수 수염차의 이점 및 효능을 알리고, 제품 구매 유도  \n",
      "- **기대 효과**: 인지도 향상, 브랜드 이미지 강화, 판매 증대  \n",
      "\n",
      "# 2. 타겟 오디언스 & 톤·매너\n",
      "- **타겟 고객**: 20대 후반에서 40대 초반의 건강과 웰빙에 관심이 많은 여성  \n",
      "- **라이프스타일**: 자연 식품을 선호하며, 유기농 및 건강한 음료를 적극적으로 찾는 소비자  \n",
      "- **톤·무드**: 자연적이고 건강하며 따뜻한 느낌의 프리미엄 브랜드 이미지   \n",
      "\n",
      "# 3. 디자인 컨셉 기획\n",
      "- **핵심 메시지**: “자연이 선사하는 건강한 디톡스”  \n",
      "- **비주얼 키워드**: 옥수수 수염, 자연, 선명한 색감, 청량감  \n",
      "- **스타일 방향**: 플랫 일러스트와 자연 풍경을 혼합한 현대적 디자인  \n",
      "\n",
      "# 4. 컬러·타이포·그래픽 가이드\n",
      "- **추천 컬러 팔레트**: \n",
      "  - #FFC107 (옥수수 노란색)\n",
      "  - #4CAF50 (자연초록)\n",
      "  - #FFFFFF (화이트)\n",
      "- **서체 가이드**:\n",
      "  - 헤드라인: Noto Sans KR Bold\n",
      "  - 본문: Noto Serif KR Regular\n",
      "- **아이콘·일러스트 스타일**: 풀 컬러의 일러스트와 선명한 아이콘 사용  \n",
      "\n",
      "# 5. 레이아웃 & 정보구조\n",
      "- **AIDA 프레임워크 적용**:\n",
      "  - Attention: 주목을 끌 수 있는 비주얼과 헤드라인\n",
      "  - Interest: 제품 특징 설명 및 텍스트 섹션\n",
      "  - Desire: 소비자 후기 및 효과 강조\n",
      "  - Action: 구매 버튼 및 웹사이트 링크 \n",
      "- **주요 섹션 배치**: \n",
      "  - 헤드라인 (상단 중앙)\n",
      "  - 비주얼 (헤드라인 아래)\n",
      "  - 주요 메시지 (비주얼 아래)\n",
      "  - CTA 버튼 (하단 중앙)\n",
      "- **추천 해상도 및 형태**: 웹 배너 1200×300px, 인스타그램 1080×1080px  \n",
      "\n",
      "# 6. 산출물 & 실행 플랜\n",
      "- **시안 수량**: 초안 2안 → 피드백 → 최종 1안  \n",
      "- **파일 포맷**: AI, SVG, PNG (투명 배경)  \n",
      "- **필요 자산 목록**: 제품 사진, 옥수수 관련 이미지, 로고, 일러스트(채택될 스타일에 따라)  \n",
      "\n",
      "# 7. 단계별 출력\n",
      "- **1단계**: 디자인 브리프 작성 완료  \n",
      "- **2단계**: 무드보드 & 컬러 스와치 생성  \n",
      "- **3단계**: 와이어프레임/스케치 작성  \n",
      "- **4단계**: High-fidelity 시안 제작  \n",
      "- **5단계**: 최종 파일 패키지 준비  \n",
      "\n",
      "위 디자인 기획안을 바탕으로 효과적인 옥수수 수염차 홍보물이 제작될 수 있습니다. 추가적인 수정이나 요청사항이 있으시면 언제든지 말씀해 주세요!\n"
     ]
    }
   ],
   "source": [
    "question = \"옥수수 수염차 홍보물 만들어줘\"\n",
    "\n",
    "config = RunnableConfig(recursion_limit=10, configurable={\"thread_id\": \"1\"})\n",
    "# Stream and display messages\n",
    "for event in graph.stream({\"messages\": [(\"user\", question)]}, config=config):\n",
    "    for value in event.values():\n",
    "        value[\"messages\"][-1].pretty_print()\n",
    "# Final output\n",
    "state = graph.get_state({\"configurable\": {\"thread_id\": \"1\"}})\n",
    "final_output = state.values[\"messages\"][-1].content"
   ]
  }
 ],
 "metadata": {
  "kernelspec": {
   "display_name": ".venv",
   "language": "python",
   "name": "python3"
  },
  "language_info": {
   "codemirror_mode": {
    "name": "ipython",
    "version": 3
   },
   "file_extension": ".py",
   "mimetype": "text/x-python",
   "name": "python",
   "nbconvert_exporter": "python",
   "pygments_lexer": "ipython3",
   "version": "3.12.10"
  }
 },
 "nbformat": 4,
 "nbformat_minor": 5
}
