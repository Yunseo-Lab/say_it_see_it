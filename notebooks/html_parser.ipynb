{
 "cells": [
  {
   "cell_type": "code",
   "execution_count": 4,
   "id": "0d92fe9a",
   "metadata": {},
   "outputs": [],
   "source": [
    "from bs4 import BeautifulSoup as Soup  \n",
    "from langchain_openai import ChatOpenAI  \n",
    "from langchain_core.prompts import ChatPromptTemplate  \n",
    "from pathlib import Path  \n",
    "from dotenv import load_dotenv"
   ]
  },
  {
   "cell_type": "code",
   "execution_count": 5,
   "id": "ebd0db08",
   "metadata": {},
   "outputs": [
    {
     "data": {
      "text/plain": [
       "True"
      ]
     },
     "execution_count": 5,
     "metadata": {},
     "output_type": "execute_result"
    }
   ],
   "source": [
    "load_dotenv()"
   ]
  },
  {
   "cell_type": "code",
   "execution_count": 7,
   "id": "9ee7d373",
   "metadata": {},
   "outputs": [],
   "source": [
    "def generate_and_save_html(topic, output_dir=\"generated_html\", open_browser=True):  \n",
    "    \"\"\"  \n",
    "    주제에 대한 HTML을 생성하고 파일로 저장합니다.  \n",
    "      \n",
    "    Args:  \n",
    "        topic: HTML 페이지의 주제  \n",
    "        output_dir: HTML 파일을 저장할 디렉토리  \n",
    "        open_browser: 생성 후 브라우저에서 파일을 열지 여부  \n",
    "      \n",
    "    Returns:  \n",
    "        생성된 파일의 경로  \n",
    "    \"\"\"  \n",
    "    # LLM 모델 설정  \n",
    "    llm = ChatOpenAI(model=\"gpt-3.5-turbo\")  \n",
    "      \n",
    "    # HTML 생성을 위한 프롬프트  \n",
    "    html_generation_prompt = ChatPromptTemplate.from_template(\"\"\"  \n",
    "    당신은 HTML 생성 전문가입니다. 다음 주제에 대한 간단한 HTML 페이지를 생성해주세요:  \n",
    "    주제: {topic}  \n",
    "      \n",
    "    완전한 HTML 문서를 생성해주세요. <!DOCTYPE html>부터 시작하여 <html>, <head>, <body> 태그를 모두 포함해야 합니다.  \n",
    "    CSS 스타일도 포함해주세요.  \n",
    "    \"\"\")  \n",
    "      \n",
    "    # LLM을 사용하여 HTML 생성  \n",
    "    chain = html_generation_prompt | llm  \n",
    "    result = chain.invoke({\"topic\": topic})  \n",
    "    html_content = result.content  \n",
    "      \n",
    "    # HTML 파싱 및 정리  \n",
    "    soup = Soup(html_content, \"html.parser\")  \n",
    "    formatted_html = soup.prettify()  \n",
    "      \n",
    "    # 디렉토리 및 파일 경로 설정  \n",
    "    output_path = Path(output_dir)  \n",
    "    output_path.mkdir(exist_ok=True)  \n",
    "      \n",
    "    # 파일명 생성  \n",
    "    filename = f\"{topic.lower().replace(' ', '_')}.html\"  \n",
    "    file_path = output_path / filename  \n",
    "      \n",
    "    # HTML 파일 저장  \n",
    "    with open(file_path, \"w\", encoding=\"utf-8\") as f:  \n",
    "        f.write(formatted_html)  \n",
    "      \n",
    "    print(f\"HTML 파일이 성공적으로 생성되었습니다: {file_path}\")  \n",
    "      \n",
    "    # 브라우저에서 파일 열기 (선택 사항)  \n",
    "    if open_browser:  \n",
    "        import webbrowser  \n",
    "        webbrowser.open(f\"file://{file_path.absolute()}\")  \n",
    "      \n",
    "    return file_path  "
   ]
  },
  {
   "cell_type": "code",
   "execution_count": 8,
   "id": "897b4b9c",
   "metadata": {},
   "outputs": [
    {
     "name": "stdout",
     "output_type": "stream",
     "text": [
      "HTML 파일이 성공적으로 생성되었습니다: generated_html/인공지능의_미래.html\n"
     ]
    },
    {
     "name": "stderr",
     "output_type": "stream",
     "text": [
      "0:113: execution error: 일부 대상체 파일을 발견할 수 없습니다. (-43)\n",
      "69:77: execution error: application \"chrome\"을(를) 가져올 수 없습니다. (-1728)\n",
      "70:78: execution error: application \"firefox\"을(를) 가져올 수 없습니다. (-1728)\n"
     ]
    },
    {
     "name": "stdout",
     "output_type": "stream",
     "text": [
      "HTML 파일이 성공적으로 생성되었습니다: generated_html/머신러닝_기초.html\n"
     ]
    },
    {
     "name": "stderr",
     "output_type": "stream",
     "text": [
      "0:112: execution error: 일부 대상체 파일을 발견할 수 없습니다. (-43)\n",
      "69:77: execution error: application \"chrome\"을(를) 가져올 수 없습니다. (-1728)\n",
      "70:78: execution error: application \"firefox\"을(를) 가져올 수 없습니다. (-1728)\n"
     ]
    },
    {
     "name": "stdout",
     "output_type": "stream",
     "text": [
      "HTML 파일이 성공적으로 생성되었습니다: generated_html/자연어_처리_기술.html\n"
     ]
    },
    {
     "name": "stderr",
     "output_type": "stream",
     "text": [
      "0:114: execution error: 일부 대상체 파일을 발견할 수 없습니다. (-43)\n",
      "69:77: execution error: application \"chrome\"을(를) 가져올 수 없습니다. (-1728)\n",
      "70:78: execution error: application \"firefox\"을(를) 가져올 수 없습니다. (-1728)\n"
     ]
    }
   ],
   "source": [
    "# 사용 예시  \n",
    "topics = [\"인공지능의 미래\", \"머신러닝 기초\", \"자연어 처리 기술\"]  \n",
    "for topic in topics:  \n",
    "    generate_and_save_html(topic)"
   ]
  }
 ],
 "metadata": {
  "kernelspec": {
   "display_name": ".venv",
   "language": "python",
   "name": "python3"
  },
  "language_info": {
   "codemirror_mode": {
    "name": "ipython",
    "version": 3
   },
   "file_extension": ".py",
   "mimetype": "text/x-python",
   "name": "python",
   "nbconvert_exporter": "python",
   "pygments_lexer": "ipython3",
   "version": "3.12.10"
  }
 },
 "nbformat": 4,
 "nbformat_minor": 5
}
